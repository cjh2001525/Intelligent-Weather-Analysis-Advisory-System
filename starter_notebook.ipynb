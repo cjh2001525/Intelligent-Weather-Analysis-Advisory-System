{
  "cells": [
    {
      "cell_type": "markdown",
      "metadata": {
        "id": "view-in-github",
        "colab_type": "text"
      },
      "source": [
        "<a href=\"https://colab.research.google.com/github/cjh2001525/Intelligent-Weather-Analysis-Advisory-System/blob/main/starter_notebook.ipynb\" target=\"_parent\"><img src=\"https://colab.research.google.com/assets/colab-badge.svg\" alt=\"Open In Colab\"/></a>"
      ]
    },
    {
      "cell_type": "markdown",
      "id": "72e78a05",
      "metadata": {
        "id": "72e78a05"
      },
      "source": [
        "# 🌦️ WeatherWise – Starter Notebook\n",
        "\n",
        "Welcome to your **WeatherWise** project notebook! This scaffold is designed to help you build your weather advisor app using Python, visualisations, and AI-enhanced development.\n",
        "\n",
        "---\n",
        "\n",
        "📄 **Full Assignment Specification**  \n",
        "See [`ASSIGNMENT.md`](ASSIGNMENT.md) or check the LMS for full details.\n",
        "\n",
        "📝 **Quick Refresher**  \n",
        "A one-page summary is available in [`resources/assignment-summary.md`](resources/assignment-summary.md).\n",
        "\n",
        "---\n",
        "\n",
        "🧠 **This Notebook Structure is Optional**  \n",
        "You’re encouraged to reorganise, rename sections, or remove scaffold cells if you prefer — as long as your final version meets the requirements.\n",
        "\n",
        "✅ You may delete this note before submission.\n",
        "\n"
      ]
    },
    {
      "cell_type": "markdown",
      "id": "fa8c7f6c",
      "metadata": {
        "id": "fa8c7f6c"
      },
      "source": [
        "## 🧰 Setup and Imports\n",
        "\n",
        "This section imports commonly used packages and installs any additional tools used in the project.\n",
        "\n",
        "- You may not need all of these unless you're using specific features (e.g. visualisations, advanced prompting).\n",
        "- The notebook assumes the following packages are **pre-installed** in the provided environment or installable via pip:\n",
        "  - `requests`, `matplotlib`, `pyinputplus`\n",
        "  - `fetch-my-weather` (for accessing weather data easily)\n",
        "  - `hands-on-ai` (for AI logging, comparisons, or prompting tools)\n",
        "\n",
        "If you're running this notebook in **Google Colab**, uncomment the following lines to install the required packages.\n"
      ]
    },
    {
      "cell_type": "code",
      "execution_count": null,
      "id": "70c3f3f1",
      "metadata": {
        "id": "70c3f3f1"
      },
      "outputs": [],
      "source": [
        "# 🧪 Optional packages — uncomment if needed in Colab or JupyterHub\n",
        "!pip install fetch-my-weather\n",
        "!pip install hands-on-ai\n"
      ]
    },
    {
      "cell_type": "code",
      "source": [
        "import os\n",
        "\n",
        "os.environ['HANDS_ON_AI_SERVER'] = 'http://ollama.serveur.au'\n",
        "os.environ['HANDS_ON_AI_MODEL'] = 'granite3.2'\n",
        "os.environ['HANDS_ON_AI_API_KEY'] = input('Enter your API key: ')"
      ],
      "metadata": {
        "id": "B2JKlJfrGgIb"
      },
      "id": "B2JKlJfrGgIb",
      "execution_count": null,
      "outputs": []
    },
    {
      "cell_type": "markdown",
      "id": "59ae7543",
      "metadata": {
        "id": "59ae7543"
      },
      "source": [
        "## 📦 Setup and Configuration\n",
        "\n",
        "\n",
        "\n",
        "Import required packages and setup environment."
      ]
    },
    {
      "cell_type": "code",
      "execution_count": null,
      "id": "f1dd051e",
      "metadata": {
        "id": "f1dd051e"
      },
      "outputs": [],
      "source": [
        "import requests\n",
        "import matplotlib.pyplot as plt\n",
        "import pyinputplus as pyip\n",
        "# ✅ Import after installing (if needed)\n",
        "from fetch_my_weather import get_weather\n",
        "from hands_on_ai.chat import get_response\n",
        "\n",
        "# Add any other setup code here\n",
        "# --- Optional installs (uncomment if needed in Colab / JupyterHub) ---\n",
        "# !pip install pyinputplus==0.2.12\n",
        "\n",
        "# --- Imports ---\n",
        "import os\n",
        "import re\n",
        "import json\n",
        "from typing import Dict, List, Any, Optional\n",
        "from datetime import datetime, timezone\n",
        "import requests\n",
        "import matplotlib.pyplot as plt\n",
        "\n",
        "# --- Global config ---\n",
        "WTTR_URL = \"https://wttr.in/{location}?format=j1\"   # Using wttr.in as weather data source\n",
        "REQUEST_TIMEOUT = 12\n",
        "DEFAULT_FORECAST_DAYS = 5\n",
        "UNITS = \"metric\"   # metric units (Celsius, km/h)\n",
        "\n",
        "# Matplotlib style\n",
        "plt.rcParams[\"figure.figsize\"] = (8, 4)\n",
        "plt.rcParams[\"axes.grid\"] = True\n",
        "\n",
        "# --- Utility functions ---\n",
        "def clamp_forecast_days(days: int) -> int:\n",
        "    \"\"\"Clamp forecast days to range [1, 5].\"\"\"\n",
        "    try:\n",
        "        d = int(days)\n",
        "    except Exception:\n",
        "        d = DEFAULT_FORECAST_DAYS\n",
        "    return max(1, min(5, d))\n",
        "\n",
        "def clean_location(location: str) -> str:\n",
        "    \"\"\"Clean up location string: trim and collapse spaces.\"\"\"\n",
        "    if not isinstance(location, str):\n",
        "        return \"\"\n",
        "    return re.sub(r\"\\s+\", \" \", location.strip())\n",
        "\n",
        "def http_get_json(url: str) -> Dict[str, Any]:\n",
        "    \"\"\"\n",
        "    Unified HTTP GET for JSON responses.\n",
        "    Returns dict with either:\n",
        "        {\"ok\": True, \"data\": <json>}\n",
        "    or\n",
        "        {\"ok\": False, \"error\": <message>}\n",
        "    \"\"\"\n",
        "    try:\n",
        "        r = requests.get(url, timeout=REQUEST_TIMEOUT)\n",
        "        r.raise_for_status()\n",
        "        return {\"ok\": True, \"data\": r.json()}\n",
        "    except requests.RequestException as e:\n",
        "        return {\"ok\": False, \"error\": str(e)}\n",
        "\n",
        "def now_iso() -> str:\n",
        "    \"\"\"Return current UTC timestamp in ISO format.\"\"\"\n",
        "    return datetime.now(timezone.utc).strftime(\"%Y-%m-%d %H:%M:%S %Z\")\n",
        "\n"
      ]
    },
    {
      "cell_type": "markdown",
      "id": "f736ade3",
      "metadata": {
        "id": "f736ade3"
      },
      "source": [
        "## 🌤️ Weather Data Functions"
      ]
    },
    {
      "cell_type": "code",
      "execution_count": 1,
      "id": "7a2c7cd0",
      "metadata": {
        "id": "7a2c7cd0"
      },
      "outputs": [],
      "source": [
        "def get_weather_data(location, forecast_days=5):\n",
        "    \"\"\"\n",
        "    Retrieve weather data for a specified location.\n",
        "\n",
        "    Args:\n",
        "        location (str): City or location name\n",
        "        forecast_days (int): Number of days to forecast (1-5)\n",
        "\n",
        "    Returns:\n",
        "        dict: Weather data including current conditions and forecast\n",
        "    \"\"\"\n",
        "    # Clean and validate inputs\n",
        "    location = clean_location(location)\n",
        "    forecast_days = clamp_forecast_days(forecast_days)\n",
        "\n",
        "    if not location:\n",
        "        return {\"ok\": False, \"error\": \"Invalid location string.\"}\n",
        "\n",
        "    # Build API request\n",
        "    url = WTTR_URL.format(location=location)\n",
        "    result = http_get_json(url)\n",
        "    if not result[\"ok\"]:\n",
        "        return {\"ok\": False, \"error\": result[\"error\"]}\n",
        "\n",
        "    data = result[\"data\"]\n",
        "\n",
        "    try:\n",
        "        # Extract current condition\n",
        "        current = data[\"current_condition\"][0]\n",
        "        current_weather = {\n",
        "            \"temperature\": int(current.get(\"temp_C\", 0)),\n",
        "            \"humidity\": int(current.get(\"humidity\", 0)),\n",
        "            \"condition\": current[\"weatherDesc\"][0][\"value\"],\n",
        "            \"wind_speed\": int(current.get(\"windspeedKmph\", 0)),\n",
        "            \"wind_direction\": current.get(\"winddir16Point\", \"N/A\"),\n",
        "            \"precipitation\": float(current.get(\"precipMM\", 0.0))\n",
        "        }\n",
        "\n",
        "        # Extract forecast days\n",
        "        forecast_list = []\n",
        "        for day in data[\"weather\"][:forecast_days]:\n",
        "            forecast_list.append({\n",
        "                \"date\": day.get(\"date\", \"\"),\n",
        "                \"min_temp\": int(day.get(\"mintempC\", 0)),\n",
        "                \"max_temp\": int(day.get(\"maxtempC\", 0)),\n",
        "                # midday snapshot at index 4 (12:00)\n",
        "                \"condition\": day[\"hourly\"][4][\"weatherDesc\"][0][\"value\"],\n",
        "                \"precipitation_chance\": int(day[\"hourly\"][4].get(\"chanceofrain\", 0))\n",
        "            })\n",
        "\n",
        "        # Return unified schema\n",
        "        return {\n",
        "            \"ok\": True,\n",
        "            \"location\": location,\n",
        "            \"timestamp\": now_iso(),\n",
        "            \"units\": UNITS,\n",
        "            \"current\": current_weather,\n",
        "            \"forecast\": forecast_list\n",
        "        }\n",
        "    except Exception as e:\n",
        "        return {\"ok\": False, \"error\": str(e)}\n",
        "\n",
        "\n"
      ]
    },
    {
      "cell_type": "markdown",
      "id": "8a744fdc",
      "metadata": {
        "id": "8a744fdc"
      },
      "source": [
        "## 📊 Visualisation Functions"
      ]
    },
    {
      "cell_type": "code",
      "execution_count": 3,
      "id": "9dc3bf85",
      "metadata": {
        "id": "9dc3bf85"
      },
      "outputs": [],
      "source": [
        "# Define create_temperature_visualisation() and create_precipitation_visualisation() here\n",
        "def create_temperature_visualisation(weather_data, output_type='display'):\n",
        "    \"\"\"\n",
        "    Create visualisation of temperature data.\n",
        "\n",
        "    Args:\n",
        "        weather_data (dict): The processed weather data\n",
        "        output_type (str): Either 'display' to show in notebook or 'figure' to return the figure\n",
        "\n",
        "    Returns:\n",
        "        If output_type is 'figure', returns the matplotlib figure object\n",
        "        Otherwise, displays the visualisation in the notebook\n",
        "    \"\"\"\n",
        "    forecast = weather_data.get(\"forecast\", [])\n",
        "    if not forecast:\n",
        "        print(\"No forecast data available.\")\n",
        "        return None\n",
        "\n",
        "    dates = [day[\"date\"] for day in forecast]\n",
        "    min_temps = [day[\"min_temp\"] for day in forecast]\n",
        "    max_temps = [day[\"max_temp\"] for day in forecast]\n",
        "\n",
        "    fig, ax = plt.subplots()\n",
        "    ax.plot(dates, min_temps, marker=\"o\", label=\"Min Temp (°C)\")\n",
        "    ax.plot(dates, max_temps, marker=\"o\", label=\"Max Temp (°C)\")\n",
        "    ax.set_title(f\"Temperature Trend for {weather_data['location']}\")\n",
        "    ax.set_xlabel(\"Date\")\n",
        "    ax.set_ylabel(\"Temperature (°C)\")\n",
        "    ax.legend()\n",
        "\n",
        "    if output_type == \"figure\":\n",
        "        return fig\n",
        "    else:\n",
        "        plt.show()\n",
        "        return None\n",
        "\n"
      ]
    },
    {
      "cell_type": "code",
      "source": [
        "def create_precipitation_visualisation(weather_data, output_type='display'):\n",
        "    \"\"\"\n",
        "    Create visualisation of precipitation data.\n",
        "\n",
        "    Args:\n",
        "        weather_data (dict): The processed weather data\n",
        "        output_type (str): Either 'display' to show in notebook or 'figure' to return the figure\n",
        "\n",
        "    Returns:\n",
        "        If output_type is 'figure', returns the matplotlib figure object\n",
        "        Otherwise, displays the visualisation in the notebook\n",
        "    \"\"\"\n",
        "    forecast = weather_data.get(\"forecast\", [])\n",
        "    if not forecast:\n",
        "        print(\"No forecast data available.\")\n",
        "        return None\n",
        "\n",
        "    dates = [day[\"date\"] for day in forecast]\n",
        "    precipitation_chances = [day[\"precipitation_chance\"] for day in forecast]\n",
        "\n",
        "    fig, ax = plt.subplots()\n",
        "    ax.bar(dates, precipitation_chances, color=\"skyblue\")\n",
        "    ax.set_title(f\"Precipitation Chances for {weather_data['location']}\")\n",
        "    ax.set_xlabel(\"Date\")\n",
        "    ax.set_ylabel(\"Chance of Rain (%)\")\n",
        "    ax.set_ylim(0, 100)\n",
        "\n",
        "    if output_type == \"figure\":\n",
        "        return fig\n",
        "    else:\n",
        "        plt.show()\n",
        "        return None\n",
        "\n",
        ""
      ],
      "metadata": {
        "id": "HpOlQylYG5Ho"
      },
      "id": "HpOlQylYG5Ho",
      "execution_count": 2,
      "outputs": []
    },
    {
      "cell_type": "markdown",
      "id": "9f95d160",
      "metadata": {
        "id": "9f95d160"
      },
      "source": [
        "## 🤖 Natural Language Processing"
      ]
    },
    {
      "cell_type": "code",
      "execution_count": 4,
      "id": "bcc5833e",
      "metadata": {
        "id": "bcc5833e",
        "colab": {
          "base_uri": "https://localhost:8080/",
          "height": 110
        },
        "outputId": "a0e09505-1d70-4840-e037-3a089ec14715"
      },
      "outputs": [
        {
          "output_type": "error",
          "ename": "SyntaxError",
          "evalue": "invalid syntax (ipython-input-320667227.py, line 12)",
          "traceback": [
            "\u001b[0;36m  File \u001b[0;32m\"/tmp/ipython-input-320667227.py\"\u001b[0;36m, line \u001b[0;32m12\u001b[0m\n\u001b[0;31m    passimport re\u001b[0m\n\u001b[0m               ^\u001b[0m\n\u001b[0;31mSyntaxError\u001b[0m\u001b[0;31m:\u001b[0m invalid syntax\n"
          ]
        }
      ],
      "source": [
        "# Define parse_weather_question() and generate_weather_response() here\n",
        "import re\n",
        "from datetime import datetime, timedelta\n",
        "\n",
        "def parse_weather_question(question: str) -> dict:\n",
        "    \"\"\"\n",
        "    Parse a natural language weather question.\n",
        "\n",
        "    Returns a dict like:\n",
        "      {\n",
        "        \"topic\": \"rain\" | \"temperature\" | \"wind\" | \"humidity\" | \"general\",\n",
        "        \"day\": 0 (today) | 1 (tomorrow) | 2..4 (weekday offset) | None,\n",
        "        \"raw\": original_question\n",
        "      }\n",
        "    \"\"\"\n",
        "    if not isinstance(question, str) or not question.strip():\n",
        "        return {\"topic\": \"general\", \"day\": 0, \"raw\": question}\n",
        "\n",
        "    q = question.strip().lower()\n",
        "\n",
        "    # Topic detection (simple keyword approach)\n",
        "    topic = \"general\"\n",
        "    if any(w in q for w in [\"rain\", \"umbrella\", \"wet\", \"shower\", \"storm\"]):\n",
        "        topic = \"rain\"\n",
        "    elif any(w in q for w in [\"temp\", \"temperature\", \"hot\", \"cold\", \"warm\", \"chilly\"]):\n",
        "        topic = \"temperature\"\n",
        "    elif any(w in q for w in [\"wind\", \"windy\", \"breeze\", \"gale\"]):\n",
        "        topic = \"wind\"\n",
        "    elif any(w in q for w in [\"humid\", \"humidity\", \"moist\"]):\n",
        "        topic = \"humidity\"\n",
        "\n",
        "    # Day detection: today / tomorrow / weekday names\n",
        "    day_offset = None\n",
        "    if \"today\" in q:\n",
        "        day_offset = 0\n",
        "    elif \"tomorrow\" in q:\n",
        "        day_offset = 1\n",
        "    else:\n",
        "        weekdays = [\"monday\",\"tuesday\",\"wednesday\",\"thursday\",\"friday\",\"saturday\",\"sunday\"]\n",
        "        for i, name in enumerate(weekdays):\n",
        "            if name in q:\n",
        "                # compute offset from today to the next occurrence of that weekday (0..6)\n",
        "                today_idx = datetime.today().weekday()  # Monday=0\n",
        "                target_idx = i\n",
        "                delta = (target_idx - today_idx) % 7\n",
        "                day_offset = delta\n",
        "                break\n",
        "\n",
        "    # If no explicit day found, default to today (0) for general/temperature/rain\n",
        "    if day_offset is None:\n",
        "        day_offset = 0\n",
        "\n",
        "    return {\"topic\": topic, \"day\": int(day_offset), \"raw\": question}\n",
        "\n",
        "\n",
        "def generate_weather_response(parsed_question: dict, weather_data: dict) -> str:\n",
        "    \"\"\"\n",
        "    Generate a natural language response based on parsed question and weather data.\n",
        "    Uses the unified weather_data schema produced by get_weather_data().\n",
        "    \"\"\"\n",
        "    # Basic validation\n",
        "    if not isinstance(parsed_question, dict):\n",
        "        return \"Sorry, I could not understand the question.\"\n",
        "    if not isinstance(weather_data, dict) or (weather_data.get(\"ok\") is False):\n",
        "        return \"Sorry, weather data is not available right now.\"\n",
        "\n",
        "    topic = parsed_question.get(\"topic\", \"general\")\n",
        "    day = int(parsed_question.get(\"day\", 0))\n",
        "\n",
        "    location = weather_data.get(\"location\", \"your location\")\n",
        "    current = weather_data.get(\"current\", {})\n",
        "    forecast = weather_data.get(\"forecast\", [])\n",
        "\n",
        "    # Clamp day index to available forecast range\n",
        "    if not forecast:\n",
        "        # Fall back to a simple current-conditions sentence\n",
        "        temp = current.get(\"temperature\")\n",
        "        cond = current.get(\"condition\", \"unavailable\")\n",
        "        if temp is None:\n",
        "            return f\"Current conditions for {location} are {cond}.\"\n",
        "        return f\"Right now in {location} it is {temp}°C and {cond}.\"\n",
        "    if day < 0:\n",
        "        day = 0\n",
        "    if day >= len(forecast):\n",
        "        day = len(forecast) - 1\n",
        "\n",
        "    day_data = forecast[day]\n",
        "    day_label = \"today\" if day == 0 else (\"tomorrow\" if day == 1 else f\"on {day_data.get('date','that day')}\")\n",
        "\n",
        "    # Topic-specific responses\n",
        "    if topic == \"rain\":\n",
        "        chance = day_data.get(\"precipitation_chance\")\n",
        "        if chance is None:\n",
        "            return f\"Rain probability {day_label} in {location} is unavailable.\"\n",
        "        verdict = \"likely\" if chance >= 50 else \"unlikely\"\n",
        "        return f\"Rain is {verdict} {day_label} in {location} (chance {chance}%).\"\n",
        "\n",
        "    elif topic == \"temperature\":\n",
        "        tmin = day_data.get(\"min_temp\")\n",
        "        tmax = day_data.get(\"max_temp\")\n",
        "        cond = day_data.get(\"condition\", \"unknown conditions\")\n",
        "        if tmin is None or tmax is None:\n",
        "            return f\"Temperature details {day_label} in {location} are unavailable.\"\n",
        "        return f\"{day_label.capitalize()} in {location}: {cond}, {tmin}–{tmax}°C.\"\n",
        "\n",
        "    elif topic == \"wind\":\n",
        "        # Our forecast schema does not include wind per day; provide current wind as a best-effort.\n",
        "        ws = current.get(\"wind_speed\")\n",
        "        wd = current.get(\"wind_direction\", \"\")\n",
        "        if ws is None:\n",
        "            return f\"Wind details are not available right now for {location}.\"\n",
        "        return f\"Current wind in {location} is about {ws} km/h {wd}. Daily wind forecast is not available.\"\n",
        "\n",
        "    elif topic == \"humidity\":\n",
        "        h = current.get(\"humidity\")\n",
        "        if h is None:\n",
        "            return f\"Humidity is not available right now for {location}.\"\n",
        "        return f\"Current humidity in {location} is {h}%.\"\n",
        "\n",
        "    # General / fallback response\n",
        "    tnow = current.get(\"temperature\")\n",
        "    cnow = current.get(\"condition\", \"unknown conditions\")\n",
        "    if tnow is None:\n",
        "        return f\"Current conditions for {location}: {cnow}.\"\n",
        "    return f\"Right now in {location} it is {tnow}°C and {cnow}. {day_label.capitalize()} looks {day_data.get('condition','unclear')} with {day_data.get('min_temp','?')}–{day_data.get('max_temp','?')}°C.\""
      ]
    },
    {
      "cell_type": "markdown",
      "id": "0d85225e",
      "metadata": {
        "id": "0d85225e"
      },
      "source": [
        "## 🧭 User Interface"
      ]
    },
    {
      "cell_type": "code",
      "execution_count": null,
      "id": "fa6cb0f6",
      "metadata": {
        "id": "fa6cb0f6"
      },
      "outputs": [],
      "source": [
        "# Define menu functions using pyinputplus or ipywidgets here"
      ]
    },
    {
      "cell_type": "markdown",
      "id": "d643a53c",
      "metadata": {
        "id": "d643a53c"
      },
      "source": [
        "## 🧩 Main Application Logic"
      ]
    },
    {
      "cell_type": "code",
      "execution_count": null,
      "id": "a9e2e805",
      "metadata": {
        "id": "a9e2e805"
      },
      "outputs": [],
      "source": [
        "# Tie everything together here\n",
        "def generate_weather_response(parsed_question, weather_data):\n",
        "    \"\"\"\n",
        "    Generate a natural language response to a weather question.\n",
        "\n",
        "    Args:\n",
        "        parsed_question (dict): Parsed question data\n",
        "        weather_data (dict): Weather data\n",
        "\n",
        "    Returns:\n",
        "        str: Natural language response\n",
        "    \"\"\"\n",
        "    pass"
      ]
    },
    {
      "cell_type": "markdown",
      "id": "fde44479",
      "metadata": {
        "id": "fde44479"
      },
      "source": [
        "## 🧪 Testing and Examples"
      ]
    },
    {
      "cell_type": "code",
      "execution_count": null,
      "id": "4e573901",
      "metadata": {
        "id": "4e573901"
      },
      "outputs": [],
      "source": [
        "# Include sample input/output for each function"
      ]
    },
    {
      "cell_type": "markdown",
      "id": "d2885880",
      "metadata": {
        "id": "d2885880"
      },
      "source": [
        "## 🗂️ AI Prompting Log (Optional)\n",
        "Add markdown cells here summarising prompts used or link to AI conversations in the `ai-conversations/` folder."
      ]
    }
  ],
  "metadata": {
    "language_info": {
      "name": "python"
    },
    "colab": {
      "provenance": [],
      "include_colab_link": true
    },
    "kernelspec": {
      "name": "python3",
      "display_name": "Python 3"
    }
  },
  "nbformat": 4,
  "nbformat_minor": 5
}